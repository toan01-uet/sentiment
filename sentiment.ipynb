{
  "nbformat": 4,
  "nbformat_minor": 0,
  "metadata": {
    "accelerator": "GPU",
    "colab": {
      "name": "Copy of sentiment.ipynb",
      "provenance": [],
      "collapsed_sections": [],
      "mount_file_id": "1J4JClfr5p6Xnk9XfyVZk_CL23Frt_tJ6",
      "authorship_tag": "ABX9TyNq2KLDcRqeP1F8t4BneLZ2",
      "include_colab_link": true
    },
    "kernelspec": {
      "display_name": "Python 3",
      "name": "python3"
    }
  },
  "cells": [
    {
      "cell_type": "markdown",
      "metadata": {
        "id": "view-in-github",
        "colab_type": "text"
      },
      "source": [
        "<a href=\"https://colab.research.google.com/github/toan01-uet/sentiment/blob/main/sentiment.ipynb\" target=\"_parent\"><img src=\"https://colab.research.google.com/assets/colab-badge.svg\" alt=\"Open In Colab\"/></a>"
      ]
    },
    {
      "cell_type": "code",
      "metadata": {
        "id": "S7JqnyetgihB"
      },
      "source": [
        "import pandas as pd\r\n",
        "import numpy as np\r\n",
        "from sklearn.model_selection import train_test_split\r\n",
        "from sklearn.feature_extraction.text import TfidfVectorizer\r\n",
        "from sklearn.linear_model import LogisticRegression\r\n",
        "from sklearn.svm import LinearSVC\r\n",
        "from sklearn.ensemble import RandomForestClassifier\r\n",
        "from sklearn.neural_network import MLPClassifier\r\n",
        "from sklearn.pipeline import Pipeline\r\n",
        "from sklearn.model_selection import GridSearchCV\r\n",
        "from xgboost import XGBClassifier\r\n"
      ],
      "execution_count": null,
      "outputs": []
    },
    {
      "cell_type": "code",
      "metadata": {
        "colab": {
          "base_uri": "https://localhost:8080/",
          "height": 202
        },
        "id": "g4ScsPKhxX2_",
        "outputId": "51e63ec2-b276-4a1c-b2c3-46ff85bbe1f8"
      },
      "source": [
        "data = pd.read_csv(\"/content/drive/MyDrive/DataScience/clean_train_data.csv\",usecols = ['comment','label'])\r\n",
        "data.head()"
      ],
      "execution_count": null,
      "outputs": [
        {
          "output_type": "execute_result",
          "data": {
            "text/html": [
              "<div>\n",
              "<style scoped>\n",
              "    .dataframe tbody tr th:only-of-type {\n",
              "        vertical-align: middle;\n",
              "    }\n",
              "\n",
              "    .dataframe tbody tr th {\n",
              "        vertical-align: top;\n",
              "    }\n",
              "\n",
              "    .dataframe thead th {\n",
              "        text-align: right;\n",
              "    }\n",
              "</style>\n",
              "<table border=\"1\" class=\"dataframe\">\n",
              "  <thead>\n",
              "    <tr style=\"text-align: right;\">\n",
              "      <th></th>\n",
              "      <th>comment</th>\n",
              "      <th>label</th>\n",
              "    </tr>\n",
              "  </thead>\n",
              "  <tbody>\n",
              "    <tr>\n",
              "      <th>0</th>\n",
              "      <td>dung dc sp tot cam on shop đóng_gói sản_phẩm đ...</td>\n",
              "      <td>0</td>\n",
              "    </tr>\n",
              "    <tr>\n",
              "      <th>1</th>\n",
              "      <td>chất_lượng sản_phẩm tuyệt_vời son mịn đánh màu...</td>\n",
              "      <td>0</td>\n",
              "    </tr>\n",
              "    <tr>\n",
              "      <th>2</th>\n",
              "      <td>chất_lượng sản_phẩm tuyệt_vời k hộp k dây giày...</td>\n",
              "      <td>0</td>\n",
              "    </tr>\n",
              "    <tr>\n",
              "      <th>3</th>\n",
              "      <td>hơi thất_vọng chút kỳ_vọng sách hi_vọng học_tậ...</td>\n",
              "      <td>1</td>\n",
              "    </tr>\n",
              "    <tr>\n",
              "      <th>4</th>\n",
              "      <td>mua áo_gió màu hồng ok đợt giao áo_gió chất vả...</td>\n",
              "      <td>1</td>\n",
              "    </tr>\n",
              "  </tbody>\n",
              "</table>\n",
              "</div>"
            ],
            "text/plain": [
              "                                             comment  label\n",
              "0  dung dc sp tot cam on shop đóng_gói sản_phẩm đ...      0\n",
              "1  chất_lượng sản_phẩm tuyệt_vời son mịn đánh màu...      0\n",
              "2  chất_lượng sản_phẩm tuyệt_vời k hộp k dây giày...      0\n",
              "3  hơi thất_vọng chút kỳ_vọng sách hi_vọng học_tậ...      1\n",
              "4  mua áo_gió màu hồng ok đợt giao áo_gió chất vả...      1"
            ]
          },
          "metadata": {
            "tags": []
          },
          "execution_count": 2
        }
      ]
    },
    {
      "cell_type": "code",
      "metadata": {
        "colab": {
          "base_uri": "https://localhost:8080/",
          "height": 35
        },
        "id": "56UK-2WJPfMO",
        "outputId": "ba805ad6-caaa-451d-bfb5-ae97307b81d1"
      },
      "source": [
        "data['comment'][0]"
      ],
      "execution_count": null,
      "outputs": [
        {
          "output_type": "execute_result",
          "data": {
            "application/vnd.google.colaboratory.intrinsic+json": {
              "type": "string"
            },
            "text/plain": [
              "'dung dc sp tot cam on shop đóng_gói sản_phẩm đẹp chất_lượng sản_phẩm tuyệt_vời'"
            ]
          },
          "metadata": {
            "tags": []
          },
          "execution_count": 3
        }
      ]
    },
    {
      "cell_type": "code",
      "metadata": {
        "colab": {
          "base_uri": "https://localhost:8080/"
        },
        "id": "TLWwOf52xz0a",
        "outputId": "a484bf09-a35a-43e3-8fed-995472b41a61"
      },
      "source": [
        "data.info()"
      ],
      "execution_count": null,
      "outputs": [
        {
          "output_type": "stream",
          "text": [
            "<class 'pandas.core.frame.DataFrame'>\n",
            "RangeIndex: 16087 entries, 0 to 16086\n",
            "Data columns (total 2 columns):\n",
            " #   Column   Non-Null Count  Dtype \n",
            "---  ------   --------------  ----- \n",
            " 0   comment  16049 non-null  object\n",
            " 1   label    16087 non-null  int64 \n",
            "dtypes: int64(1), object(1)\n",
            "memory usage: 251.5+ KB\n"
          ],
          "name": "stdout"
        }
      ]
    },
    {
      "cell_type": "code",
      "metadata": {
        "colab": {
          "base_uri": "https://localhost:8080/"
        },
        "id": "K6nuKXZvx2LP",
        "outputId": "f6f204a8-2348-43ed-e63a-1187535031f2"
      },
      "source": [
        "data = data.dropna()\r\n",
        "data.info()"
      ],
      "execution_count": null,
      "outputs": [
        {
          "output_type": "stream",
          "text": [
            "<class 'pandas.core.frame.DataFrame'>\n",
            "Int64Index: 16049 entries, 0 to 16086\n",
            "Data columns (total 2 columns):\n",
            " #   Column   Non-Null Count  Dtype \n",
            "---  ------   --------------  ----- \n",
            " 0   comment  16049 non-null  object\n",
            " 1   label    16049 non-null  int64 \n",
            "dtypes: int64(1), object(1)\n",
            "memory usage: 376.1+ KB\n"
          ],
          "name": "stdout"
        }
      ]
    },
    {
      "cell_type": "code",
      "metadata": {
        "colab": {
          "base_uri": "https://localhost:8080/"
        },
        "id": "CkU9Cd1RyA8X",
        "outputId": "1318f803-ceac-4b01-9654-0b783ace0515"
      },
      "source": [
        "data[\"label\"].value_counts()"
      ],
      "execution_count": null,
      "outputs": [
        {
          "output_type": "execute_result",
          "data": {
            "text/plain": [
              "0    9253\n",
              "1    6796\n",
              "Name: label, dtype: int64"
            ]
          },
          "metadata": {
            "tags": []
          },
          "execution_count": 6
        }
      ]
    },
    {
      "cell_type": "code",
      "metadata": {
        "colab": {
          "base_uri": "https://localhost:8080/"
        },
        "id": "odE1k_dxgBtb",
        "outputId": "8aed03f8-e37d-4b20-bab6-24642a464900"
      },
      "source": [
        "print(\"Maximum review length: {}\".format(len(max((data['comment'].values), key=len))))\r\n",
        "print(\"Minimum review length: {}\".format(len(min((data['comment'].values), key=len))))\r\n",
        "result = [len(x) for x in data['comment'].values]\r\n",
        "print(\"Mean review length: {}\".format(np.mean(result)))"
      ],
      "execution_count": null,
      "outputs": [
        {
          "output_type": "stream",
          "text": [
            "Maximum review length: 1392\n",
            "Minimum review length: 1\n",
            "Mean review length: 53.209919621160196\n"
          ],
          "name": "stdout"
        }
      ]
    },
    {
      "cell_type": "code",
      "metadata": {
        "id": "R_mok7I6hRmQ"
      },
      "source": [
        "vectorizer = TfidfVectorizer(\r\n",
        "    # analyzer=\"word\", max_df=0.3, min_df=10, ngram_range=(1, 2), norm=\"l2\"\r\n",
        ")\r\n",
        "# vectorizer.fit(data[\"comment\"])"
      ],
      "execution_count": null,
      "outputs": []
    },
    {
      "cell_type": "code",
      "metadata": {
        "id": "OAM2tUolhez4"
      },
      "source": [
        "# # Vector representation of vocabulary\r\n",
        "# word_vector = pd.Series(vectorizer.vocabulary_).sample(5, random_state=1)\r\n",
        "# print(f\"Unique word (ngram) vector extract:\\n\\n {word_vector}\")"
      ],
      "execution_count": null,
      "outputs": []
    },
    {
      "cell_type": "code",
      "metadata": {
        "colab": {
          "base_uri": "https://localhost:8080/"
        },
        "id": "GnIetfmfhnaA",
        "outputId": "19805378-9208-42f2-a348-9656d8eeab19"
      },
      "source": [
        "# Sample data - 25% of data to test set\r\n",
        "train, test = train_test_split(data, random_state=1, test_size=0.25, shuffle=True)\r\n",
        "\r\n",
        "X_train = train[\"comment\"]\r\n",
        "Y_train = train[\"label\"]\r\n",
        "X_test = test[\"comment\"]\r\n",
        "Y_test = test[\"label\"]\r\n",
        "print(X_train.shape)\r\n",
        "print(X_test.shape)"
      ],
      "execution_count": null,
      "outputs": [
        {
          "output_type": "stream",
          "text": [
            "(12036,)\n",
            "(4013,)\n"
          ],
          "name": "stdout"
        }
      ]
    },
    {
      "cell_type": "code",
      "metadata": {
        "colab": {
          "base_uri": "https://localhost:8080/"
        },
        "id": "NO9bOj03h3mI",
        "outputId": "8b20e52a-73b9-4335-ad3d-3bf1edbc0fab"
      },
      "source": [
        "# transform each sentence to numeric vector with tf-idf value as elements\r\n",
        "X_train_vec = vectorizer.fit_transform(X_train)\r\n",
        "X_test_vec = vectorizer.transform(X_test)\r\n",
        "X_train_vec.get_shape()"
      ],
      "execution_count": null,
      "outputs": [
        {
          "output_type": "execute_result",
          "data": {
            "text/plain": [
              "(12036, 9383)"
            ]
          },
          "metadata": {
            "tags": []
          },
          "execution_count": 11
        }
      ]
    },
    {
      "cell_type": "code",
      "metadata": {
        "colab": {
          "base_uri": "https://localhost:8080/"
        },
        "id": "Fkk44oNIh7bx",
        "outputId": "e3960f44-0bd2-439b-c2c0-accc42b1a120"
      },
      "source": [
        "# Compare original comment text with its numeric vector representation\r\n",
        "print(f\"Original sentence:\\n{X_train[3:4].values}\\n\")\r\n",
        "# Feature Matrix\r\n",
        "features = pd.DataFrame(\r\n",
        "    X_train_vec[3:4].toarray(), columns=vectorizer.get_feature_names()\r\n",
        ")\r\n",
        "nonempty_feat = features.loc[:, (features != 0).any(axis=0)]\r\n",
        "print(f\"Vector representation of sentence:\\n {nonempty_feat}\")"
      ],
      "execution_count": null,
      "outputs": [
        {
          "output_type": "stream",
          "text": [
            "Original sentence:\n",
            "['sản_phẩm đóng_gói chất_lượng kém tiền hài_lòng sản_phẩm tiki tã mỏng ko hàng hãng niềm mua sản_phẩm']\n",
            "\n",
            "Vector representation of sentence:\n",
            "    chất_lượng  hài_lòng      hàng  ...      tiền       tã  đóng_gói\n",
            "0    0.130897  0.250957  0.120297  ...  0.174725  0.42117  0.154599\n",
            "\n",
            "[1 rows x 14 columns]\n"
          ],
          "name": "stdout"
        }
      ]
    },
    {
      "cell_type": "code",
      "metadata": {
        "id": "tLmdy6Ym-596"
      },
      "source": [
        "from sklearn.linear_model import LogisticRegression\r\n",
        "from sklearn.tree import DecisionTreeClassifier\r\n",
        "from sklearn.ensemble import RandomForestClassifier\r\n",
        "from sklearn.svm import SVC, LinearSVC\r\n",
        "from sklearn.naive_bayes import GaussianNB\r\n",
        "from sklearn.naive_bayes import BernoulliNB\r\n",
        "from sklearn.linear_model import Perceptron\r\n",
        "\r\n",
        "from sklearn.metrics import classification_report, confusion_matrix\r\n",
        "from sklearn.metrics import recall_score, precision_score,f1_score, roc_auc_score\r\n",
        "from sklearn.metrics import confusion_matrix\r\n",
        "\r\n",
        "lr = LogisticRegression()\r\n",
        "dtc = DecisionTreeClassifier()\r\n",
        "rfc = RandomForestClassifier()\r\n",
        "svm = LinearSVC()\r\n",
        "gau_nb = GaussianNB()\r\n",
        "ber_nb = BernoulliNB()\r\n",
        "pla = Perceptron()\r\n",
        "\r\n",
        "models = [lr, dtc, svm, rfc, gau_nb, ber_nb, pla]\r\n",
        "models_name = [\"Logistic Regression\", \"Decision Tree\", \"SVM\", \"Random Forest\", \"GaussianNB\", \r\n",
        "               \"BernoulliNB\", \"Perceptron\"]\r\n"
      ],
      "execution_count": null,
      "outputs": []
    },
    {
      "cell_type": "code",
      "metadata": {
        "id": "ofTV6m5v_MhA"
      },
      "source": [
        "def evaluate_model(estimator, X, y):\r\n",
        "   \r\n",
        "    prediction = estimator.predict(X)\r\n",
        "    \r\n",
        "    model_name = type(estimator).__name__\r\n",
        "    return {'name': model_name, \r\n",
        "            'recall': recall_score(y, prediction),\r\n",
        "            'precision': precision_score(y, prediction),\r\n",
        "            'f1_score':f1_score(y,prediction),\r\n",
        "            'confusion_matrix':confusion_matrix(y,prediction)\r\n",
        "           }"
      ],
      "execution_count": null,
      "outputs": []
    },
    {
      "cell_type": "code",
      "metadata": {
        "colab": {
          "base_uri": "https://localhost:8080/"
        },
        "id": "lNzyYEWn_Qmo",
        "outputId": "f7039ad3-cbd9-4635-b4e2-5068421d394a"
      },
      "source": [
        "scores = []\r\n",
        "list_model = []\r\n",
        "for idx, model in enumerate(models):\r\n",
        "    print(\"Model: {}\".format(models_name[idx]))\r\n",
        "    \r\n",
        "    model.fit(X_train_vec.toarray(), Y_train)\r\n",
        "    scores.append(evaluate_model(model, X_test_vec.toarray(), Y_test))\r\n",
        "    list_model.append(model)\r\n",
        "    print(\"=======================================\")\r\n"
      ],
      "execution_count": null,
      "outputs": [
        {
          "output_type": "stream",
          "text": [
            "Model: Logistic Regression\n",
            "=======================================\n",
            "Model: Decision Tree\n",
            "=======================================\n",
            "Model: SVM\n",
            "=======================================\n",
            "Model: Random Forest\n",
            "=======================================\n",
            "Model: GaussianNB\n",
            "=======================================\n",
            "Model: BernoulliNB\n",
            "=======================================\n",
            "Model: Perceptron\n",
            "=======================================\n"
          ],
          "name": "stdout"
        }
      ]
    },
    {
      "cell_type": "code",
      "metadata": {
        "colab": {
          "base_uri": "https://localhost:8080/",
          "height": 263
        },
        "id": "WgmCmYTm-9CO",
        "outputId": "f9d830ca-19e5-4ac9-83f4-ffb008c53db4"
      },
      "source": [
        "df = pd.DataFrame(scores)\r\n",
        "df"
      ],
      "execution_count": null,
      "outputs": [
        {
          "output_type": "execute_result",
          "data": {
            "text/html": [
              "<div>\n",
              "<style scoped>\n",
              "    .dataframe tbody tr th:only-of-type {\n",
              "        vertical-align: middle;\n",
              "    }\n",
              "\n",
              "    .dataframe tbody tr th {\n",
              "        vertical-align: top;\n",
              "    }\n",
              "\n",
              "    .dataframe thead th {\n",
              "        text-align: right;\n",
              "    }\n",
              "</style>\n",
              "<table border=\"1\" class=\"dataframe\">\n",
              "  <thead>\n",
              "    <tr style=\"text-align: right;\">\n",
              "      <th></th>\n",
              "      <th>name</th>\n",
              "      <th>recall</th>\n",
              "      <th>precision</th>\n",
              "      <th>f1_score</th>\n",
              "      <th>confusion_matrix</th>\n",
              "    </tr>\n",
              "  </thead>\n",
              "  <tbody>\n",
              "    <tr>\n",
              "      <th>0</th>\n",
              "      <td>LogisticRegression</td>\n",
              "      <td>0.867323</td>\n",
              "      <td>0.839126</td>\n",
              "      <td>0.852991</td>\n",
              "      <td>[[2000, 287], [229, 1497]]</td>\n",
              "    </tr>\n",
              "    <tr>\n",
              "      <th>1</th>\n",
              "      <td>DecisionTreeClassifier</td>\n",
              "      <td>0.778100</td>\n",
              "      <td>0.785840</td>\n",
              "      <td>0.781951</td>\n",
              "      <td>[[1921, 366], [383, 1343]]</td>\n",
              "    </tr>\n",
              "    <tr>\n",
              "      <th>2</th>\n",
              "      <td>LinearSVC</td>\n",
              "      <td>0.852839</td>\n",
              "      <td>0.839225</td>\n",
              "      <td>0.845977</td>\n",
              "      <td>[[2005, 282], [254, 1472]]</td>\n",
              "    </tr>\n",
              "    <tr>\n",
              "      <th>3</th>\n",
              "      <td>RandomForestClassifier</td>\n",
              "      <td>0.852260</td>\n",
              "      <td>0.843947</td>\n",
              "      <td>0.848083</td>\n",
              "      <td>[[2015, 272], [255, 1471]]</td>\n",
              "    </tr>\n",
              "    <tr>\n",
              "      <th>4</th>\n",
              "      <td>GaussianNB</td>\n",
              "      <td>0.365006</td>\n",
              "      <td>0.738570</td>\n",
              "      <td>0.488561</td>\n",
              "      <td>[[2064, 223], [1096, 630]]</td>\n",
              "    </tr>\n",
              "    <tr>\n",
              "      <th>5</th>\n",
              "      <td>BernoulliNB</td>\n",
              "      <td>0.705678</td>\n",
              "      <td>0.857143</td>\n",
              "      <td>0.774071</td>\n",
              "      <td>[[2084, 203], [508, 1218]]</td>\n",
              "    </tr>\n",
              "    <tr>\n",
              "      <th>6</th>\n",
              "      <td>Perceptron</td>\n",
              "      <td>0.925261</td>\n",
              "      <td>0.732233</td>\n",
              "      <td>0.817507</td>\n",
              "      <td>[[1703, 584], [129, 1597]]</td>\n",
              "    </tr>\n",
              "  </tbody>\n",
              "</table>\n",
              "</div>"
            ],
            "text/plain": [
              "                     name    recall  ...  f1_score            confusion_matrix\n",
              "0      LogisticRegression  0.867323  ...  0.852991  [[2000, 287], [229, 1497]]\n",
              "1  DecisionTreeClassifier  0.778100  ...  0.781951  [[1921, 366], [383, 1343]]\n",
              "2               LinearSVC  0.852839  ...  0.845977  [[2005, 282], [254, 1472]]\n",
              "3  RandomForestClassifier  0.852260  ...  0.848083  [[2015, 272], [255, 1471]]\n",
              "4              GaussianNB  0.365006  ...  0.488561  [[2064, 223], [1096, 630]]\n",
              "5             BernoulliNB  0.705678  ...  0.774071  [[2084, 203], [508, 1218]]\n",
              "6              Perceptron  0.925261  ...  0.817507  [[1703, 584], [129, 1597]]\n",
              "\n",
              "[7 rows x 5 columns]"
            ]
          },
          "metadata": {
            "tags": []
          },
          "execution_count": 16
        }
      ]
    },
    {
      "cell_type": "code",
      "metadata": {
        "id": "1Ty4QQY_Iqmg"
      },
      "source": [
        ""
      ],
      "execution_count": null,
      "outputs": []
    },
    {
      "cell_type": "code",
      "metadata": {
        "colab": {
          "base_uri": "https://localhost:8080/"
        },
        "id": "HB4FIaCdjIhh",
        "outputId": "f0b4babe-a50e-42d3-b7a7-7153019b42a5"
      },
      "source": [
        "# # models to test\r\n",
        "# import re\r\n",
        "# classifiers = [\r\n",
        "#     LogisticRegression(solver=\"sag\", random_state=1),\r\n",
        "#     LinearSVC(random_state=1),\r\n",
        "#     RandomForestClassifier(random_state=1),\r\n",
        "#     XGBClassifier(random_state=1)\r\n",
        "# ]\r\n",
        "# # get names of the objects in list (too lazy for c&p...)\r\n",
        "# names = [re.match(r\"[^\\(]+\", name.__str__())[0] for name in classifiers]\r\n",
        "# print(f\"Classifiers to test: {names}\")"
      ],
      "execution_count": null,
      "outputs": [
        {
          "output_type": "stream",
          "text": [
            "Classifiers to test: ['LogisticRegression', 'LinearSVC', 'RandomForestClassifier', 'XGBClassifier']\n"
          ],
          "name": "stdout"
        }
      ]
    },
    {
      "cell_type": "code",
      "metadata": {
        "colab": {
          "base_uri": "https://localhost:8080/"
        },
        "id": "SNlWuhK7jaHQ",
        "outputId": "3ec4f194-cfdc-4690-ed25-16f0298573e1"
      },
      "source": [
        "# %%time\r\n",
        "# import sklearn\r\n",
        "# # test all classifiers and save pred. results on test data\r\n",
        "# results = {}\r\n",
        "# for name, clf in zip(names, classifiers):\r\n",
        "#     print(f\"Training classifier: {name}\")\r\n",
        "#     clf.fit(X_train_vec, Y_train)\r\n",
        "#     prediction = clf.predict(X_test_vec)\r\n",
        "#     report = sklearn.metrics.classification_report(Y_test, prediction)\r\n",
        "#     results[name] = report"
      ],
      "execution_count": null,
      "outputs": [
        {
          "output_type": "stream",
          "text": [
            "Training classifier: LogisticRegression\n",
            "Training classifier: LinearSVC\n",
            "Training classifier: RandomForestClassifier\n",
            "Training classifier: XGBClassifier\n",
            "CPU times: user 12.1 s, sys: 148 ms, total: 12.2 s\n",
            "Wall time: 12.9 s\n"
          ],
          "name": "stdout"
        }
      ]
    },
    {
      "cell_type": "code",
      "metadata": {
        "colab": {
          "base_uri": "https://localhost:8080/"
        },
        "id": "HlmG-vOpjnL6",
        "outputId": "74562b91-9d16-4349-b664-949f7778c47e"
      },
      "source": [
        "# # Prediction results\r\n",
        "# for k, v in results.items():\r\n",
        "#     print(f\"Results for {k}:\")\r\n",
        "#     print(f\"{v}\\n\")"
      ],
      "execution_count": null,
      "outputs": [
        {
          "output_type": "stream",
          "text": [
            "Results for LogisticRegression:\n",
            "              precision    recall  f1-score   support\n",
            "\n",
            "           0       0.90      0.87      0.89      2287\n",
            "           1       0.84      0.87      0.85      1726\n",
            "\n",
            "    accuracy                           0.87      4013\n",
            "   macro avg       0.87      0.87      0.87      4013\n",
            "weighted avg       0.87      0.87      0.87      4013\n",
            "\n",
            "\n",
            "Results for LinearSVC:\n",
            "              precision    recall  f1-score   support\n",
            "\n",
            "           0       0.89      0.88      0.88      2287\n",
            "           1       0.84      0.85      0.85      1726\n",
            "\n",
            "    accuracy                           0.87      4013\n",
            "   macro avg       0.86      0.86      0.86      4013\n",
            "weighted avg       0.87      0.87      0.87      4013\n",
            "\n",
            "\n",
            "Results for RandomForestClassifier:\n",
            "              precision    recall  f1-score   support\n",
            "\n",
            "           0       0.89      0.88      0.88      2287\n",
            "           1       0.84      0.85      0.85      1726\n",
            "\n",
            "    accuracy                           0.87      4013\n",
            "   macro avg       0.86      0.87      0.87      4013\n",
            "weighted avg       0.87      0.87      0.87      4013\n",
            "\n",
            "\n",
            "Results for XGBClassifier:\n",
            "              precision    recall  f1-score   support\n",
            "\n",
            "           0       0.89      0.81      0.85      2287\n",
            "           1       0.77      0.87      0.82      1726\n",
            "\n",
            "    accuracy                           0.84      4013\n",
            "   macro avg       0.83      0.84      0.83      4013\n",
            "weighted avg       0.84      0.84      0.84      4013\n",
            "\n",
            "\n"
          ],
          "name": "stdout"
        }
      ]
    },
    {
      "cell_type": "markdown",
      "metadata": {
        "id": "4aavM12vMzri"
      },
      "source": [
        "**Hype Prameters LogisticRegression**"
      ]
    },
    {
      "cell_type": "code",
      "metadata": {
        "colab": {
          "base_uri": "https://localhost:8080/"
        },
        "id": "26ixtW14jueB",
        "outputId": "10d1b473-c635-42bc-8d26-354e0bfad70a"
      },
      "source": [
        "%%time\r\n",
        "import pickle\r\n",
        "# feature creation and modelling in a single function\r\n",
        "pipe = Pipeline([(\"tfidf\", TfidfVectorizer()), (\"lr\", LogisticRegression(solver=\"sag\",random_state=1))])\r\n",
        "\r\n",
        "# define parameter space to test # runtime \r\n",
        "params = {\r\n",
        "    \"tfidf__ngram_range\": [(1, 1), (1, 2), (1, 3)],\r\n",
        "    \"tfidf__max_df\": np.arange(0.2, 0.9, 0.1),\r\n",
        "    \"tfidf__min_df\": np.arange(10, 100, 10),\r\n",
        "    \r\n",
        "}\r\n",
        "pipe_clf = GridSearchCV(pipe, params, n_jobs=-1, scoring=\"f1_macro\")\r\n",
        "pipe_clf.fit(X_train, Y_train)\r\n",
        "pickle.dump(pipe_clf, open(\"./clf_pipe.pck\", \"wb\"))"
      ],
      "execution_count": null,
      "outputs": [
        {
          "output_type": "stream",
          "text": [
            "CPU times: user 10.2 s, sys: 585 ms, total: 10.8 s\n",
            "Wall time: 4min 48s\n"
          ],
          "name": "stdout"
        }
      ]
    },
    {
      "cell_type": "code",
      "metadata": {
        "colab": {
          "base_uri": "https://localhost:8080/"
        },
        "id": "N7RidNHSk-WA",
        "outputId": "4b68dd36-90a7-4bdd-e6c1-4abba06f9820"
      },
      "source": [
        "print(pipe_clf.best_params_)"
      ],
      "execution_count": null,
      "outputs": [
        {
          "output_type": "stream",
          "text": [
            "{'tfidf__max_df': 0.30000000000000004, 'tfidf__min_df': 10, 'tfidf__ngram_range': (1, 2)}\n"
          ],
          "name": "stdout"
        }
      ]
    },
    {
      "cell_type": "code",
      "metadata": {
        "colab": {
          "base_uri": "https://localhost:8080/"
        },
        "id": "Ilww9qA7lAnQ",
        "outputId": "2500d9d7-49cd-4939-c8bb-872b26f82808"
      },
      "source": [
        "%%time\r\n",
        "# feature creation and modelling in a single function\r\n",
        "pipe = Pipeline([(\"tfidf\", TfidfVectorizer()), (\"lr\",  LogisticRegression(solver=\"sag\",random_state=1))])\r\n",
        "\r\n",
        "# define parameter space to test # runtime \r\n",
        "params = {\r\n",
        "    \"tfidf__ngram_range\": [(1, 2)],\r\n",
        "    \"tfidf__max_df\": [0.30000000000000004],\r\n",
        "    \"tfidf__min_df\": [10],\r\n",
        "   \"lr__C\": [100, 10, 1.0, 0.1, 0.01],\r\n",
        "}\r\n",
        "pipe_lr_clf = GridSearchCV(pipe, params, n_jobs=-1, scoring=\"f1_macro\")\r\n",
        "pipe_lr_clf.fit(X_train, Y_train)\r\n",
        "pickle.dump(pipe_lr_clf, open(\"./pipe_lr_clf.pck\", \"wb\"))"
      ],
      "execution_count": null,
      "outputs": [
        {
          "output_type": "stream",
          "text": [
            "CPU times: user 630 ms, sys: 21 ms, total: 651 ms\n",
            "Wall time: 8.54 s\n"
          ],
          "name": "stdout"
        }
      ]
    },
    {
      "cell_type": "code",
      "metadata": {
        "colab": {
          "base_uri": "https://localhost:8080/"
        },
        "id": "0EO3kZYPltdf",
        "outputId": "dc954f6d-271c-46b2-d76a-b3ebc69cd5b6"
      },
      "source": [
        "best_params = pipe_lr_clf.best_params_\r\n",
        "print(best_params)\r\n"
      ],
      "execution_count": null,
      "outputs": [
        {
          "output_type": "stream",
          "text": [
            "{'lr__C': 1.0, 'tfidf__max_df': 0.30000000000000004, 'tfidf__min_df': 10, 'tfidf__ngram_range': (1, 2)}\n"
          ],
          "name": "stdout"
        }
      ]
    },
    {
      "cell_type": "code",
      "metadata": {
        "colab": {
          "base_uri": "https://localhost:8080/"
        },
        "id": "an3U17VDlz6v",
        "outputId": "a119928c-a47e-4d12-ae19-bba6d337797e"
      },
      "source": [
        "# run pipe with optimized parameters\r\n",
        "pipe.set_params(**best_params).fit(X_train, Y_train)\r\n",
        "pipe_pred = pipe.predict(X_test)\r\n",
        "report = sklearn.metrics.classification_report(Y_test, pipe_pred)\r\n",
        "print(report)"
      ],
      "execution_count": null,
      "outputs": [
        {
          "output_type": "stream",
          "text": [
            "              precision    recall  f1-score   support\n",
            "\n",
            "           0       0.90      0.88      0.89      2287\n",
            "           1       0.85      0.87      0.86      1726\n",
            "\n",
            "    accuracy                           0.88      4013\n",
            "   macro avg       0.87      0.88      0.88      4013\n",
            "weighted avg       0.88      0.88      0.88      4013\n",
            "\n"
          ],
          "name": "stdout"
        }
      ]
    },
    {
      "cell_type": "code",
      "metadata": {
        "colab": {
          "base_uri": "https://localhost:8080/"
        },
        "id": "73ueOz4S3NdG",
        "outputId": "9ade16a6-1a7c-48a1-f23c-124747456698"
      },
      "source": [
        "print(\"f1_score:\\n \",sklearn.metrics.f1_score(Y_test, pipe_pred),\"\\n\")\r\n",
        "print(\"recall_score:\\n \",sklearn.metrics.recall_score(Y_test, pipe_pred) ,\"\\n\")\r\n",
        "print(\"precision_score:\\n \",sklearn.metrics.precision_score(Y_test, pipe_pred),\"\\n\")"
      ],
      "execution_count": null,
      "outputs": [
        {
          "output_type": "stream",
          "text": [
            "f1_score:\n",
            "  0.8595088520845232 \n",
            "\n",
            "recall_score:\n",
            "  0.8719582850521437 \n",
            "\n",
            "precision_score:\n",
            "  0.8474099099099099 \n",
            "\n"
          ],
          "name": "stdout"
        }
      ]
    },
    {
      "cell_type": "code",
      "metadata": {
        "colab": {
          "base_uri": "https://localhost:8080/",
          "height": 79
        },
        "id": "5yQmkBaALOGc",
        "outputId": "27edadd8-31ed-4f1f-c8c2-2aa52d0889f1"
      },
      "source": [
        "d = {'f1_score': [0.8595], 'recall': [0.8719], 'precision':[0.8474]}\r\n",
        "score = pd.DataFrame(d)\r\n",
        "score"
      ],
      "execution_count": null,
      "outputs": [
        {
          "output_type": "execute_result",
          "data": {
            "text/html": [
              "<div>\n",
              "<style scoped>\n",
              "    .dataframe tbody tr th:only-of-type {\n",
              "        vertical-align: middle;\n",
              "    }\n",
              "\n",
              "    .dataframe tbody tr th {\n",
              "        vertical-align: top;\n",
              "    }\n",
              "\n",
              "    .dataframe thead th {\n",
              "        text-align: right;\n",
              "    }\n",
              "</style>\n",
              "<table border=\"1\" class=\"dataframe\">\n",
              "  <thead>\n",
              "    <tr style=\"text-align: right;\">\n",
              "      <th></th>\n",
              "      <th>f1_score</th>\n",
              "      <th>recall</th>\n",
              "      <th>precision</th>\n",
              "    </tr>\n",
              "  </thead>\n",
              "  <tbody>\n",
              "    <tr>\n",
              "      <th>0</th>\n",
              "      <td>0.8595</td>\n",
              "      <td>0.8719</td>\n",
              "      <td>0.8474</td>\n",
              "    </tr>\n",
              "  </tbody>\n",
              "</table>\n",
              "</div>"
            ],
            "text/plain": [
              "   f1_score  recall  precision\n",
              "0    0.8595  0.8719     0.8474"
            ]
          },
          "metadata": {
            "tags": []
          },
          "execution_count": 37
        }
      ]
    }
  ]
}