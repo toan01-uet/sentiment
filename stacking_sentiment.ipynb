{
  "nbformat": 4,
  "nbformat_minor": 0,
  "metadata": {
    "accelerator": "GPU",
    "colab": {
      "name": "Copy of sentiment.ipynb",
      "provenance": [],
      "collapsed_sections": [],
      "mount_file_id": "1J4JClfr5p6Xnk9XfyVZk_CL23Frt_tJ6",
      "authorship_tag": "ABX9TyPFRL1da5xsYIVnFl1DIULh",
      "include_colab_link": true
    },
    "kernelspec": {
      "display_name": "Python 3",
      "name": "python3"
    }
  },
  "cells": [
    {
      "cell_type": "markdown",
      "metadata": {
        "id": "view-in-github",
        "colab_type": "text"
      },
      "source": [
        "<a href=\"https://colab.research.google.com/github/toan01-uet/sentiment/blob/main/stacking_sentiment.ipynb\" target=\"_parent\"><img src=\"https://colab.research.google.com/assets/colab-badge.svg\" alt=\"Open In Colab\"/></a>"
      ]
    },
    {
      "cell_type": "code",
      "metadata": {
        "id": "S7JqnyetgihB"
      },
      "source": [
        "import pandas as pd\n",
        "import numpy as np\n",
        "from sklearn.model_selection import train_test_split\n",
        "from sklearn.feature_extraction.text import TfidfVectorizer\n",
        "from sklearn.linear_model import LogisticRegression\n",
        "from sklearn.svm import LinearSVC\n",
        "from sklearn.ensemble import RandomForestClassifier\n",
        "from sklearn.neural_network import MLPClassifier\n",
        "from sklearn.pipeline import Pipeline\n",
        "from sklearn.model_selection import GridSearchCV\n",
        "from xgboost import XGBClassifier\n"
      ],
      "execution_count": 1,
      "outputs": []
    },
    {
      "cell_type": "code",
      "metadata": {
        "colab": {
          "base_uri": "https://localhost:8080/",
          "height": 202
        },
        "id": "g4ScsPKhxX2_",
        "outputId": "551d46a5-9219-435d-a52f-97430d309c01"
      },
      "source": [
        "data = pd.read_csv(\"/content/drive/MyDrive/DataScience/clean_train_data.csv\",usecols = ['comment','label'])\n",
        "data.head()"
      ],
      "execution_count": 2,
      "outputs": [
        {
          "output_type": "execute_result",
          "data": {
            "text/html": [
              "<div>\n",
              "<style scoped>\n",
              "    .dataframe tbody tr th:only-of-type {\n",
              "        vertical-align: middle;\n",
              "    }\n",
              "\n",
              "    .dataframe tbody tr th {\n",
              "        vertical-align: top;\n",
              "    }\n",
              "\n",
              "    .dataframe thead th {\n",
              "        text-align: right;\n",
              "    }\n",
              "</style>\n",
              "<table border=\"1\" class=\"dataframe\">\n",
              "  <thead>\n",
              "    <tr style=\"text-align: right;\">\n",
              "      <th></th>\n",
              "      <th>comment</th>\n",
              "      <th>label</th>\n",
              "    </tr>\n",
              "  </thead>\n",
              "  <tbody>\n",
              "    <tr>\n",
              "      <th>0</th>\n",
              "      <td>dung dc sp tot cam on shop đóng_gói sản_phẩm đ...</td>\n",
              "      <td>0</td>\n",
              "    </tr>\n",
              "    <tr>\n",
              "      <th>1</th>\n",
              "      <td>chất_lượng sản_phẩm tuyệt_vời son mịn đánh màu...</td>\n",
              "      <td>0</td>\n",
              "    </tr>\n",
              "    <tr>\n",
              "      <th>2</th>\n",
              "      <td>chất_lượng sản_phẩm tuyệt_vời k hộp k dây giày...</td>\n",
              "      <td>0</td>\n",
              "    </tr>\n",
              "    <tr>\n",
              "      <th>3</th>\n",
              "      <td>hơi thất_vọng chút kỳ_vọng sách hi_vọng học_tậ...</td>\n",
              "      <td>1</td>\n",
              "    </tr>\n",
              "    <tr>\n",
              "      <th>4</th>\n",
              "      <td>mua áo_gió màu hồng ok đợt giao áo_gió chất vả...</td>\n",
              "      <td>1</td>\n",
              "    </tr>\n",
              "  </tbody>\n",
              "</table>\n",
              "</div>"
            ],
            "text/plain": [
              "                                             comment  label\n",
              "0  dung dc sp tot cam on shop đóng_gói sản_phẩm đ...      0\n",
              "1  chất_lượng sản_phẩm tuyệt_vời son mịn đánh màu...      0\n",
              "2  chất_lượng sản_phẩm tuyệt_vời k hộp k dây giày...      0\n",
              "3  hơi thất_vọng chút kỳ_vọng sách hi_vọng học_tậ...      1\n",
              "4  mua áo_gió màu hồng ok đợt giao áo_gió chất vả...      1"
            ]
          },
          "metadata": {
            "tags": []
          },
          "execution_count": 2
        }
      ]
    },
    {
      "cell_type": "code",
      "metadata": {
        "colab": {
          "base_uri": "https://localhost:8080/",
          "height": 35
        },
        "id": "56UK-2WJPfMO",
        "outputId": "efdbf51d-5bb7-4374-9a81-c82c5ed334b5"
      },
      "source": [
        "data['comment'][0]"
      ],
      "execution_count": 3,
      "outputs": [
        {
          "output_type": "execute_result",
          "data": {
            "application/vnd.google.colaboratory.intrinsic+json": {
              "type": "string"
            },
            "text/plain": [
              "'dung dc sp tot cam on shop đóng_gói sản_phẩm đẹp chất_lượng sản_phẩm tuyệt_vời'"
            ]
          },
          "metadata": {
            "tags": []
          },
          "execution_count": 3
        }
      ]
    },
    {
      "cell_type": "code",
      "metadata": {
        "colab": {
          "base_uri": "https://localhost:8080/"
        },
        "id": "TLWwOf52xz0a",
        "outputId": "303bd2a6-79ca-4ee8-ce78-ca777820c696"
      },
      "source": [
        "data.info()"
      ],
      "execution_count": 4,
      "outputs": [
        {
          "output_type": "stream",
          "text": [
            "<class 'pandas.core.frame.DataFrame'>\n",
            "RangeIndex: 16087 entries, 0 to 16086\n",
            "Data columns (total 2 columns):\n",
            " #   Column   Non-Null Count  Dtype \n",
            "---  ------   --------------  ----- \n",
            " 0   comment  16049 non-null  object\n",
            " 1   label    16087 non-null  int64 \n",
            "dtypes: int64(1), object(1)\n",
            "memory usage: 251.5+ KB\n"
          ],
          "name": "stdout"
        }
      ]
    },
    {
      "cell_type": "code",
      "metadata": {
        "colab": {
          "base_uri": "https://localhost:8080/"
        },
        "id": "K6nuKXZvx2LP",
        "outputId": "82cab2a6-27d7-49f8-c795-17f1f31b6c1a"
      },
      "source": [
        "data = data.dropna()\n",
        "data.info()"
      ],
      "execution_count": 5,
      "outputs": [
        {
          "output_type": "stream",
          "text": [
            "<class 'pandas.core.frame.DataFrame'>\n",
            "Int64Index: 16049 entries, 0 to 16086\n",
            "Data columns (total 2 columns):\n",
            " #   Column   Non-Null Count  Dtype \n",
            "---  ------   --------------  ----- \n",
            " 0   comment  16049 non-null  object\n",
            " 1   label    16049 non-null  int64 \n",
            "dtypes: int64(1), object(1)\n",
            "memory usage: 376.1+ KB\n"
          ],
          "name": "stdout"
        }
      ]
    },
    {
      "cell_type": "code",
      "metadata": {
        "colab": {
          "base_uri": "https://localhost:8080/"
        },
        "id": "CkU9Cd1RyA8X",
        "outputId": "0423912e-47cd-48ca-dd2c-e18756b590e0"
      },
      "source": [
        "data[\"label\"].value_counts()"
      ],
      "execution_count": 6,
      "outputs": [
        {
          "output_type": "execute_result",
          "data": {
            "text/plain": [
              "0    9253\n",
              "1    6796\n",
              "Name: label, dtype: int64"
            ]
          },
          "metadata": {
            "tags": []
          },
          "execution_count": 6
        }
      ]
    },
    {
      "cell_type": "code",
      "metadata": {
        "colab": {
          "base_uri": "https://localhost:8080/"
        },
        "id": "odE1k_dxgBtb",
        "outputId": "83d57b26-5ee9-4a90-baaf-39b6541feb58"
      },
      "source": [
        "print(\"Maximum review length: {}\".format(len(max((data['comment'].values), key=len))))\n",
        "print(\"Minimum review length: {}\".format(len(min((data['comment'].values), key=len))))\n",
        "result = [len(x) for x in data['comment'].values]\n",
        "print(\"Mean review length: {}\".format(np.mean(result)))"
      ],
      "execution_count": 7,
      "outputs": [
        {
          "output_type": "stream",
          "text": [
            "Maximum review length: 1392\n",
            "Minimum review length: 1\n",
            "Mean review length: 53.209919621160196\n"
          ],
          "name": "stdout"
        }
      ]
    },
    {
      "cell_type": "code",
      "metadata": {
        "id": "n1wE7_yIaDeD"
      },
      "source": [
        "from sklearn.decomposition import TruncatedSVD\n",
        "## TF-IDF + SVD\n",
        "clf = Pipeline([\n",
        "                ('tfidf', TfidfVectorizer(max_df=0.3, min_df=10, ngram_range=(1, 2), norm=\"l2\")),\n",
        "                ('svd', TruncatedSVD(n_components = 500, random_state=42)),\n",
        "                ])"
      ],
      "execution_count": 8,
      "outputs": []
    },
    {
      "cell_type": "code",
      "metadata": {
        "colab": {
          "base_uri": "https://localhost:8080/"
        },
        "id": "GnIetfmfhnaA",
        "outputId": "0da7dd42-32f8-441e-93e9-dad57d434bce"
      },
      "source": [
        "# Sample data - 25% of data to test set\n",
        "train, test = train_test_split(data, random_state=1, test_size=0.25, shuffle=True)\n",
        "\n",
        "X_train = train[\"comment\"]\n",
        "Y_train = train[\"label\"]\n",
        "X_test = test[\"comment\"]\n",
        "Y_test = test[\"label\"]\n",
        "print(X_train.shape)\n",
        "print(X_test.shape)"
      ],
      "execution_count": 9,
      "outputs": [
        {
          "output_type": "stream",
          "text": [
            "(12036,)\n",
            "(4013,)\n"
          ],
          "name": "stdout"
        }
      ]
    },
    {
      "cell_type": "code",
      "metadata": {
        "id": "NO9bOj03h3mI"
      },
      "source": [
        "# transform each sentence to numeric vector with tf-idf value as elements\n",
        "X_train_vec = clf.fit_transform(X_train)\n",
        "X_test_vec = clf.transform(X_test)\n"
      ],
      "execution_count": 10,
      "outputs": []
    },
    {
      "cell_type": "code",
      "metadata": {
        "id": "g7cMOithdv94"
      },
      "source": [
        "Y_train = Y_train.values\n",
        "Y_test = Y_test.values"
      ],
      "execution_count": 17,
      "outputs": []
    },
    {
      "cell_type": "code",
      "metadata": {
        "id": "tLmdy6Ym-596"
      },
      "source": [
        "from sklearn.linear_model import LogisticRegression\n",
        "from sklearn.tree import DecisionTreeClassifier\n",
        "from sklearn.ensemble import RandomForestClassifier\n",
        "from sklearn.svm import SVC, LinearSVC\n",
        "from sklearn.naive_bayes import GaussianNB\n",
        "from sklearn.naive_bayes import BernoulliNB\n",
        "from sklearn.linear_model import Perceptron\n",
        "\n",
        "from sklearn.metrics import classification_report, confusion_matrix\n",
        "from sklearn.metrics import recall_score, precision_score,f1_score, roc_auc_score\n",
        "from sklearn.metrics import confusion_matrix\n"
      ],
      "execution_count": 11,
      "outputs": []
    },
    {
      "cell_type": "code",
      "metadata": {
        "id": "1Ty4QQY_Iqmg",
        "colab": {
          "base_uri": "https://localhost:8080/"
        },
        "outputId": "2cd88b1d-10c6-4d6b-9b17-7843511d3e9d"
      },
      "source": [
        "from sklearn.model_selection import StratifiedKFold\n",
        "ntrain = X_train_vec.shape[0]\n",
        "ntest = X_test_vec.shape[0]\n",
        "SEED = 42 # for reproducibility\n",
        "NFOLDS = 5 # set folds for out-of-fold prediction\n",
        "kf = StratifiedKFold( n_splits= NFOLDS, random_state=SEED)\n",
        "\n",
        "def get_oof(clf, x_train, y_train, x_test):\n",
        "    oof_train = np.zeros((ntrain,))\n",
        "    oof_test = np.zeros((ntest,))\n",
        "    oof_test_skf = np.empty((NFOLDS, ntest))\n",
        "\n",
        "    for i, (train_index, test_index) in enumerate(kf.split(x_train, y_train)):\n",
        "        x_tr = x_train[train_index]\n",
        "        y_tr = y_train[train_index]\n",
        "        x_te = x_train[test_index]\n",
        "\n",
        "        clf.fit(x_tr, y_tr)\n",
        "\n",
        "        oof_train[test_index] = clf.predict_proba(x_te)[:,1]\n",
        "        oof_test_skf[i, :] = clf.predict_proba(x_test)[:,1]\n",
        "\n",
        "    oof_test[:] = oof_test_skf.mean(axis=0)\n",
        "    return oof_train.reshape(-1, 1), oof_test.reshape(-1, 1)"
      ],
      "execution_count": 13,
      "outputs": [
        {
          "output_type": "stream",
          "text": [
            "/usr/local/lib/python3.7/dist-packages/sklearn/model_selection/_split.py:296: FutureWarning: Setting a random_state has no effect since shuffle is False. This will raise an error in 0.24. You should leave random_state to its default (None), or set shuffle=True.\n",
            "  FutureWarning\n"
          ],
          "name": "stderr"
        }
      ]
    },
    {
      "cell_type": "markdown",
      "metadata": {
        "id": "1-uNFyIYfXBO"
      },
      "source": [
        "**First-Level Models**"
      ]
    },
    {
      "cell_type": "code",
      "metadata": {
        "colab": {
          "base_uri": "https://localhost:8080/"
        },
        "id": "6PpGhQXdX4hw",
        "outputId": "11d2422c-3229-4e83-caa6-4293d915a2a7"
      },
      "source": [
        "lr = LogisticRegression(random_state= SEED)\n",
        "dtc = DecisionTreeClassifier(random_state= SEED)\n",
        "rfc = RandomForestClassifier(random_state= SEED)\n",
        "gau_nb = GaussianNB()\n",
        "ber_nb = BernoulliNB()\n",
        "# Create our OOF train and test predictions. These base results will be used as new features\n",
        "lr_oof_train, lr_oof_test = get_oof(lr, X_train_vec, Y_train, X_test_vec) # LogisticRegression\n",
        "dtc_oof_train, dtc_oof_test = get_oof(dtc, X_train_vec, Y_train, X_test_vec) # DecisionTreeClassifier\n",
        "rfc_oof_train, rfc_oof_test = get_oof(rfc, X_train_vec, Y_train, X_test_vec) # RandomForestClassifier\n",
        "gau_oof_train, gau_oof_test = get_oof(gau_nb, X_train_vec, Y_train, X_test_vec) # GaussianNB\n",
        "ber_oof_train, ber_oof_test = get_oof(ber_nb, X_train_vec, Y_train, X_test_vec) # BernoulliNB\n",
        "print(\"Training is complete\")"
      ],
      "execution_count": 18,
      "outputs": [
        {
          "output_type": "stream",
          "text": [
            "Training is complete\n"
          ],
          "name": "stdout"
        }
      ]
    },
    {
      "cell_type": "code",
      "metadata": {
        "colab": {
          "base_uri": "https://localhost:8080/",
          "height": 202
        },
        "id": "ncQG3Ywlezjd",
        "outputId": "1fd75ca9-6637-4ae6-fc7a-4e6b9f34bb3f"
      },
      "source": [
        "base_predictions_train = pd.DataFrame({\n",
        "    'LogisticRegression': lr_oof_train.ravel(),\n",
        "     'DecisionTree': dtc_oof_train.ravel(),\n",
        "     ' RandomForest': rfc_oof_train.ravel(),\n",
        "     'GaussianNB': gau_oof_train.ravel(),\n",
        "      'BernoulliNB': ber_oof_train.ravel()\n",
        "    })\n",
        "base_predictions_train.head()"
      ],
      "execution_count": 19,
      "outputs": [
        {
          "output_type": "execute_result",
          "data": {
            "text/html": [
              "<div>\n",
              "<style scoped>\n",
              "    .dataframe tbody tr th:only-of-type {\n",
              "        vertical-align: middle;\n",
              "    }\n",
              "\n",
              "    .dataframe tbody tr th {\n",
              "        vertical-align: top;\n",
              "    }\n",
              "\n",
              "    .dataframe thead th {\n",
              "        text-align: right;\n",
              "    }\n",
              "</style>\n",
              "<table border=\"1\" class=\"dataframe\">\n",
              "  <thead>\n",
              "    <tr style=\"text-align: right;\">\n",
              "      <th></th>\n",
              "      <th>LogisticRegression</th>\n",
              "      <th>DecisionTree</th>\n",
              "      <th>RandomForest</th>\n",
              "      <th>GaussianNB</th>\n",
              "      <th>BernoulliNB</th>\n",
              "    </tr>\n",
              "  </thead>\n",
              "  <tbody>\n",
              "    <tr>\n",
              "      <th>0</th>\n",
              "      <td>0.091472</td>\n",
              "      <td>0.0</td>\n",
              "      <td>0.18000</td>\n",
              "      <td>2.227288e-11</td>\n",
              "      <td>0.221683</td>\n",
              "    </tr>\n",
              "    <tr>\n",
              "      <th>1</th>\n",
              "      <td>0.937045</td>\n",
              "      <td>1.0</td>\n",
              "      <td>0.80000</td>\n",
              "      <td>8.683265e-12</td>\n",
              "      <td>0.910055</td>\n",
              "    </tr>\n",
              "    <tr>\n",
              "      <th>2</th>\n",
              "      <td>0.582718</td>\n",
              "      <td>0.0</td>\n",
              "      <td>0.53000</td>\n",
              "      <td>1.000000e+00</td>\n",
              "      <td>0.558867</td>\n",
              "    </tr>\n",
              "    <tr>\n",
              "      <th>3</th>\n",
              "      <td>0.911952</td>\n",
              "      <td>1.0</td>\n",
              "      <td>0.67100</td>\n",
              "      <td>9.997975e-01</td>\n",
              "      <td>0.625036</td>\n",
              "    </tr>\n",
              "    <tr>\n",
              "      <th>4</th>\n",
              "      <td>0.505166</td>\n",
              "      <td>0.0</td>\n",
              "      <td>0.41125</td>\n",
              "      <td>6.240134e-04</td>\n",
              "      <td>0.529703</td>\n",
              "    </tr>\n",
              "  </tbody>\n",
              "</table>\n",
              "</div>"
            ],
            "text/plain": [
              "   LogisticRegression  DecisionTree   RandomForest    GaussianNB  BernoulliNB\n",
              "0            0.091472           0.0        0.18000  2.227288e-11     0.221683\n",
              "1            0.937045           1.0        0.80000  8.683265e-12     0.910055\n",
              "2            0.582718           0.0        0.53000  1.000000e+00     0.558867\n",
              "3            0.911952           1.0        0.67100  9.997975e-01     0.625036\n",
              "4            0.505166           0.0        0.41125  6.240134e-04     0.529703"
            ]
          },
          "metadata": {
            "tags": []
          },
          "execution_count": 19
        }
      ]
    },
    {
      "cell_type": "code",
      "metadata": {
        "colab": {
          "base_uri": "https://localhost:8080/",
          "height": 294
        },
        "id": "Cq-NHiQGgkhn",
        "outputId": "86a0803f-864b-4e92-f264-003ab9414247"
      },
      "source": [
        "base_predictions_train.describe()"
      ],
      "execution_count": 23,
      "outputs": [
        {
          "output_type": "execute_result",
          "data": {
            "text/html": [
              "<div>\n",
              "<style scoped>\n",
              "    .dataframe tbody tr th:only-of-type {\n",
              "        vertical-align: middle;\n",
              "    }\n",
              "\n",
              "    .dataframe tbody tr th {\n",
              "        vertical-align: top;\n",
              "    }\n",
              "\n",
              "    .dataframe thead th {\n",
              "        text-align: right;\n",
              "    }\n",
              "</style>\n",
              "<table border=\"1\" class=\"dataframe\">\n",
              "  <thead>\n",
              "    <tr style=\"text-align: right;\">\n",
              "      <th></th>\n",
              "      <th>LogisticRegression</th>\n",
              "      <th>DecisionTree</th>\n",
              "      <th>RandomForest</th>\n",
              "      <th>GaussianNB</th>\n",
              "      <th>BernoulliNB</th>\n",
              "    </tr>\n",
              "  </thead>\n",
              "  <tbody>\n",
              "    <tr>\n",
              "      <th>count</th>\n",
              "      <td>12036.000000</td>\n",
              "      <td>12036.000000</td>\n",
              "      <td>12036.000000</td>\n",
              "      <td>1.203600e+04</td>\n",
              "      <td>12036.000000</td>\n",
              "    </tr>\n",
              "    <tr>\n",
              "      <th>mean</th>\n",
              "      <td>0.421124</td>\n",
              "      <td>0.411245</td>\n",
              "      <td>0.421098</td>\n",
              "      <td>4.621306e-01</td>\n",
              "      <td>0.421665</td>\n",
              "    </tr>\n",
              "    <tr>\n",
              "      <th>std</th>\n",
              "      <td>0.345069</td>\n",
              "      <td>0.484155</td>\n",
              "      <td>0.246983</td>\n",
              "      <td>4.881231e-01</td>\n",
              "      <td>0.334384</td>\n",
              "    </tr>\n",
              "    <tr>\n",
              "      <th>min</th>\n",
              "      <td>0.000160</td>\n",
              "      <td>0.000000</td>\n",
              "      <td>0.000000</td>\n",
              "      <td>2.279948e-74</td>\n",
              "      <td>0.000016</td>\n",
              "    </tr>\n",
              "    <tr>\n",
              "      <th>25%</th>\n",
              "      <td>0.063126</td>\n",
              "      <td>0.000000</td>\n",
              "      <td>0.200000</td>\n",
              "      <td>1.260852e-13</td>\n",
              "      <td>0.093887</td>\n",
              "    </tr>\n",
              "    <tr>\n",
              "      <th>50%</th>\n",
              "      <td>0.405787</td>\n",
              "      <td>0.000000</td>\n",
              "      <td>0.429904</td>\n",
              "      <td>2.159354e-02</td>\n",
              "      <td>0.367153</td>\n",
              "    </tr>\n",
              "    <tr>\n",
              "      <th>75%</th>\n",
              "      <td>0.748824</td>\n",
              "      <td>1.000000</td>\n",
              "      <td>0.630000</td>\n",
              "      <td>1.000000e+00</td>\n",
              "      <td>0.744240</td>\n",
              "    </tr>\n",
              "    <tr>\n",
              "      <th>max</th>\n",
              "      <td>0.999394</td>\n",
              "      <td>1.000000</td>\n",
              "      <td>1.000000</td>\n",
              "      <td>1.000000e+00</td>\n",
              "      <td>0.995713</td>\n",
              "    </tr>\n",
              "  </tbody>\n",
              "</table>\n",
              "</div>"
            ],
            "text/plain": [
              "       LogisticRegression  DecisionTree  ...    GaussianNB   BernoulliNB\n",
              "count        12036.000000  12036.000000  ...  1.203600e+04  12036.000000\n",
              "mean             0.421124      0.411245  ...  4.621306e-01      0.421665\n",
              "std              0.345069      0.484155  ...  4.881231e-01      0.334384\n",
              "min              0.000160      0.000000  ...  2.279948e-74      0.000016\n",
              "25%              0.063126      0.000000  ...  1.260852e-13      0.093887\n",
              "50%              0.405787      0.000000  ...  2.159354e-02      0.367153\n",
              "75%              0.748824      1.000000  ...  1.000000e+00      0.744240\n",
              "max              0.999394      1.000000  ...  1.000000e+00      0.995713\n",
              "\n",
              "[8 rows x 5 columns]"
            ]
          },
          "metadata": {
            "tags": []
          },
          "execution_count": 23
        }
      ]
    },
    {
      "cell_type": "markdown",
      "metadata": {
        "id": "9Yv6NGeugwpG"
      },
      "source": [
        "****Second-Level Models (Meta models: logisticRe)****"
      ]
    },
    {
      "cell_type": "code",
      "metadata": {
        "id": "l-19F_ZHgruP"
      },
      "source": [
        "x_train = np.concatenate(( lr_oof_train, dtc_oof_train, rfc_oof_train, gau_oof_train, ber_oof_train), axis=1)\n",
        "x_test = np.concatenate(( lr_oof_test, dtc_oof_test, rfc_oof_test, gau_oof_test, ber_oof_test), axis=1)"
      ],
      "execution_count": 24,
      "outputs": []
    },
    {
      "cell_type": "code",
      "metadata": {
        "id": "nKyjJYAahVqc"
      },
      "source": [
        "lr = LogisticRegression(random_state= SEED)\n",
        "lr.fit(x_train,Y_train)\n",
        "pred = lr.predict(x_test)\n"
      ],
      "execution_count": 25,
      "outputs": []
    },
    {
      "cell_type": "code",
      "metadata": {
        "colab": {
          "base_uri": "https://localhost:8080/"
        },
        "id": "2bBCWELfhn62",
        "outputId": "d54570a8-2965-48da-d5df-db8f95becb68"
      },
      "source": [
        "import sklearn\n",
        "print(sklearn.metrics.classification_report(Y_test, pred))"
      ],
      "execution_count": 28,
      "outputs": [
        {
          "output_type": "stream",
          "text": [
            "              precision    recall  f1-score   support\n",
            "\n",
            "           0       0.89      0.87      0.88      2287\n",
            "           1       0.84      0.86      0.85      1726\n",
            "\n",
            "    accuracy                           0.87      4013\n",
            "   macro avg       0.87      0.87      0.87      4013\n",
            "weighted avg       0.87      0.87      0.87      4013\n",
            "\n"
          ],
          "name": "stdout"
        }
      ]
    }
  ]
}